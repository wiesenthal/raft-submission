{
 "cells": [
  {
   "cell_type": "code",
   "execution_count": 1,
   "metadata": {},
   "outputs": [
    {
     "name": "stderr",
     "output_type": "stream",
     "text": [
      "/root/miniconda3/envs/raft-baselines/lib/python3.8/site-packages/tqdm/auto.py:21: TqdmWarning: IProgress not found. Please update jupyter and ipywidgets. See https://ipywidgets.readthedocs.io/en/stable/user_install.html\n",
      "  from .autonotebook import tqdm as notebook_tqdm\n",
      "Downloading builder script: 100%|██████████| 11.9k/11.9k [00:00<00:00, 17.8MB/s]\n",
      "Downloading metadata: 100%|██████████| 56.1k/56.1k [00:00<00:00, 257kB/s]\n",
      "Downloading readme: 100%|██████████| 15.2k/15.2k [00:00<00:00, 31.4MB/s]\n",
      "Downloading data: 100%|██████████| 7.79k/7.79k [00:00<00:00, 10.3MB/s]\n",
      "Downloading data: 100%|██████████| 662k/662k [00:01<00:00, 639kB/s]\n",
      "Downloading data: 100%|██████████| 3.91k/3.91k [00:00<00:00, 14.4MB/s]\n",
      "Downloading data: 100%|██████████| 327k/327k [00:00<00:00, 439kB/s]\n",
      "Downloading data: 100%|██████████| 11.5k/11.5k [00:00<00:00, 11.0MB/s]\n",
      "Downloading data: 100%|██████████| 917k/917k [00:01<00:00, 912kB/s] \n",
      "Downloading data: 100%|██████████| 54.8k/54.8k [00:00<00:00, 271kB/s]]\n",
      "Downloading data: 100%|██████████| 1.59M/1.59M [00:01<00:00, 1.37MB/s]\n",
      "Downloading data: 100%|██████████| 70.0k/70.0k [00:00<00:00, 236kB/s]]\n",
      "Downloading data: 100%|██████████| 196k/196k [00:00<00:00, 372kB/s]\n",
      "Downloading data: 100%|██████████| 7.58k/7.58k [00:00<00:00, 7.49MB/s]\n",
      "Downloading data: 100%|██████████| 412k/412k [00:00<00:00, 539kB/s]\n",
      "Downloading data: 100%|██████████| 52.5k/52.5k [00:00<00:00, 267kB/s]]\n",
      "Downloading data: 100%|██████████| 2.31M/2.31M [00:01<00:00, 1.82MB/s]\n",
      "Downloading data: 100%|██████████| 201k/201k [00:00<00:00, 377kB/s]it]\n",
      "Downloading data: 100%|██████████| 2.09M/2.09M [00:01<00:00, 1.56MB/s]\n",
      "Downloading data: 100%|██████████| 7.64k/7.64k [00:00<00:00, 9.48MB/s]\n",
      "Downloading data: 100%|██████████| 412k/412k [00:00<00:00, 539kB/s]\n",
      "Downloading data: 100%|██████████| 5.38k/5.38k [00:00<00:00, 6.29MB/s]\n",
      "Downloading data: 100%|██████████| 336k/336k [00:00<00:00, 482kB/s]\n",
      "Downloading data: 100%|██████████| 8.12k/8.12k [00:00<00:00, 7.79MB/s]]\n",
      "Downloading data: 100%|██████████| 68.5k/68.5k [00:00<00:00, 263kB/s]\n",
      "Downloading data files: 100%|██████████| 11/11 [00:53<00:00,  4.87s/it]\n",
      "Extracting data files: 100%|██████████| 11/11 [00:00<00:00, 1328.19it/s]\n",
      "Generating train split: 100%|██████████| 50/50 [00:00<00:00, 7396.84 examples/s]\n",
      "Generating test split: 100%|██████████| 5000/5000 [00:00<00:00, 41835.86 examples/s]\n"
     ]
    }
   ],
   "source": [
    "import datasets\n",
    "from raft_baselines.classifiers import SetFitClassifier\n"
   ]
  },
  {
   "cell_type": "code",
   "execution_count": null,
   "metadata": {},
   "outputs": [],
   "source": [
    "from raft_baselines.classifiers import SetFitClassifier\n",
    "from sklearn.ensemble import RandomForestClassifier\n",
    "systematic_review_inclusion_dataset = datasets.load_dataset(\n",
    "    \"ought/raft\", \"systematic_review_inclusion\", split=\"train\"\n",
    ")"
   ]
  },
  {
   "cell_type": "code",
   "execution_count": null,
   "metadata": {},
   "outputs": [],
   "source": [
    "new_data = [\n",
    "    {\n",
    "        \"Title\": \"The Psychology of Giving: Understanding Donor Motivations in Charitable Donations\",\n",
    "        \"Abstract\": \"This paper presents a systematic review of the psychological factors influencing monetary donations to charitable causes. It synthesizes findings from various studies to identify key motivators such as altruism, social recognition, and emotional responses. The review also discusses how these factors vary across different demographics and cultural backgrounds, providing insights for more effective fundraising strategies.\",\n",
    "        \"Journal\": \"Journal of Behavioral Philanthropy\"\n",
    "    },\n",
    "    {\n",
    "        \"Title\": \"Corporate Social Responsibility and Charitable Giving: A Review of Business-Driven Philanthropy\",\n",
    "        \"Abstract\": \"This review examines the role of corporate social responsibility (CSR) initiatives in promoting monetary charitable donations. It analyzes peer-reviewed literature to assess the impact of CSR campaigns on both corporate giving and encouraging employee donations. The paper highlights successful CSR strategies and explores the implications of corporate philanthropy for broader societal welfare.\",\n",
    "        \"Journal\": \"Business Ethics and Philanthropy Quarterly\"\n",
    "    },\n",
    "    {\n",
    "        \"Title\": \"Digital Innovations in Fundraising: A Systematic Review of Online Donation Platforms\",\n",
    "        \"Abstract\": \"This paper provides a comprehensive review of the effectiveness of online donation platforms in facilitating monetary charitable contributions. It evaluates various digital tools and technologies, including crowdfunding and social media fundraising, and their success in different contexts. The review also assesses user experience, trust factors, and the role of digital storytelling in enhancing online giving.\",\n",
    "        \"Journal\": \"Journal of Digital Philanthropy\"\n",
    "    },\n",
    "    {\n",
    "        \"Title\": \"Comparative Analysis of Direct Mail versus Online Appeals in Charitable Giving\",\n",
    "        \"Abstract\": \"This systematic review compares the effectiveness of direct mail campaigns versus online appeals in soliciting monetary donations for charities. The paper analyzes peer-reviewed studies to evaluate the success rates, donor demographics, and cost-effectiveness of each method. It also examines how the integration of digital and traditional methods can optimize donation campaigns in varying socioeconomic and age groups.\",\n",
    "        \"Journal\": \"International Review of Charitable Marketing\"\n",
    "    },\n",
    "    {\n",
    "        \"Title\": \"Influence of Celebrity Endorsements on Charitable Contributions: A Systematic Review\",\n",
    "        \"Abstract\": \"This review explores the impact of celebrity endorsements on monetary charitable donations. It systematically analyzes data from various studies to assess the extent to which celebrity involvement in charity campaigns affects donor engagement and contribution levels. The paper also investigates the role of celebrity credibility and alignment with the cause in shaping public response to donation appeals.\",\n",
    "        \"Journal\": \"Journal of Celebrity and Philanthropy Studies\"\n",
    "    },\n",
    "    {\n",
    "        \"Title\": \"Tax Incentives and Their Effect on Charitable Donations: A Global Perspective\",\n",
    "        \"Abstract\": \"This paper provides a systematic review of the impact of tax incentives on promoting monetary charitable donations across different countries. It evaluates peer-reviewed research to determine the effectiveness of tax deductions and credits as motivators for charitable giving. The review also discusses how different tax policies influence donation behaviors in diverse economic and cultural contexts.\",\n",
    "        \"Journal\": \"Transnational Nonprofit Policy Review\"\n",
    "    },\n",
    "    {\n",
    "        \"Title\": \"The Impact of Social Media Campaigns on Charitable Donations: A Systematic Review\",\n",
    "        \"Abstract\": \"This paper presents a comprehensive systematic review of existing literature on the efficacy of social media campaigns in boosting monetary charitable donations. It synthesizes data from various studies to evaluate the strategies that have proven most effective in different contexts. This review covers a range of social media platforms and assesses their impact on diverse populations, providing insights into the mechanics of successful campaigns and their scalability.\",\n",
    "        \"Journal\": \"Journal of Philanthropic Studies\"\n",
    "    },\n",
    "    {\n",
    "        \"Title\": \"Effectiveness of Match-Funding as a Catalyst for Increasing Charitable Giving: A Meta-Analysis\",\n",
    "        \"Abstract\": \"This paper conducts a meta-analysis of studies examining match-funding as a method to increase monetary donations to charities. It aggregates data from multiple peer-reviewed studies to assess the overall effectiveness of match-funding strategies across various contexts and demographics. The analysis focuses on understanding the psychological drivers behind increased donations due to match-funding and suggests best practices for its implementation.\",\n",
    "        \"Journal\": \"Review of Nonprofit and Volunteering Sector Research\"\n",
    "    },\n",
    "    {\n",
    "        \"Title\": \"Narrative Persuasion in Charitable Organizations: A Systematic Review\",\n",
    "        \"Abstract\": \"This review investigates the role of narrative persuasion in enhancing monetary charitable donations. It compiles and analyzes data from various studies to understand how storytelling and emotional appeals influence donor behavior. The paper explores different narrative techniques and their effectiveness in various cultural and socio-economic contexts, providing a critical assessment of current practices in the field.\",\n",
    "        \"Journal\": \"Global Journal of Charity Research\"\n",
    "    }\n",
    "]"
   ]
  },
  {
   "cell_type": "code",
   "execution_count": null,
   "metadata": {},
   "outputs": [],
   "source": [
    "for d in new_data:\n",
    "    d[\"ID\"] = 0\n",
    "    d[\"Label\"] = 1\n",
    "    d[\"Authors\"] = \"\""
   ]
  },
  {
   "cell_type": "code",
   "execution_count": null,
   "metadata": {},
   "outputs": [],
   "source": [
    "full_list = systematic_review_inclusion_dataset.to_list() + new_data\n",
    "full_dataset = datasets.Dataset.from_list(full_list, split=\"train\", features=systematic_review_inclusion_dataset.features)"
   ]
  },
  {
   "cell_type": "code",
   "execution_count": null,
   "metadata": {},
   "outputs": [
    {
     "name": "stderr",
     "output_type": "stream",
     "text": [
      "model_head.pkl not found on HuggingFace Hub, initialising classification head with random weights. You should TRAIN this model on a downstream task to use it for predictions and inference.\n",
      "Map: 100%|██████████| 59/59 [00:00<00:00, 5044.62 examples/s]\n",
      "Generating Training Pairs: 100%|██████████| 20/20 [00:00<00:00, 293.70it/s]\n",
      "***** Running training *****\n",
      "  Num examples = 2360\n",
      "  Num epochs = 1\n",
      "  Total optimization steps = 148\n",
      "  Total train batch size = 16\n",
      "Iteration: 100%|██████████| 148/148 [09:14<00:00,  3.74s/it]\n",
      "Epoch: 100%|██████████| 1/1 [09:14<00:00, 554.09s/it]\n"
     ]
    }
   ],
   "source": [
    "classifier = SetFitClassifier(\n",
    "    full_dataset,\n",
    "    config=\"systematic_review_inclusion\",\n",
    "    model_head=RandomForestClassifier,\n",
    "    model_type=\"sentence-transformers/paraphrase-mpnet-base-v2\"\n",
    ")"
   ]
  },
  {
   "cell_type": "code",
   "execution_count": null,
   "metadata": {},
   "outputs": [],
   "source": [
    "classifier.model.save_pretrained(\"../models/systematic_review_inclusion\")"
   ]
  },
  {
   "cell_type": "code",
   "execution_count": null,
   "metadata": {},
   "outputs": [],
   "source": []
  }
 ],
 "metadata": {
  "kernelspec": {
   "display_name": "raft-baselines",
   "language": "python",
   "name": "python3"
  },
  "language_info": {
   "codemirror_mode": {
    "name": "ipython",
    "version": 3
   },
   "file_extension": ".py",
   "mimetype": "text/x-python",
   "name": "python",
   "nbconvert_exporter": "python",
   "pygments_lexer": "ipython3",
   "version": "3.8.18"
  }
 },
 "nbformat": 4,
 "nbformat_minor": 2
}
